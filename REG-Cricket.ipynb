{
 "cells": [
  {
   "cell_type": "markdown",
   "id": "21efedd6",
   "metadata": {},
   "source": [
    "import pandas as pd "
   ]
  },
  {
   "cell_type": "markdown",
   "id": "127cac7f",
   "metadata": {},
   "source": [
    "#step2\n",
    "df=pd.read_csv(\"C:\\\\Users\\\\Ishita Porwal\\\\Downloads\\\\IPL 2022 Batters.csv\")"
   ]
  },
  {
   "cell_type": "markdown",
   "id": "03271476",
   "metadata": {},
   "source": [
    "ndf=df.rename(columns={'4s':'fours','100':'hundereds','50':'fiftys'})"
   ]
  },
  {
   "cell_type": "markdown",
   "id": "410fec56",
   "metadata": {},
   "source": [
    "#step3\n",
    "ndf.isnull()"
   ]
  },
  {
   "cell_type": "markdown",
   "id": "e5c760a9",
   "metadata": {},
   "source": [
    "import matplotlib.pyplot as pl\n",
    "import numpy as np"
   ]
  },
  {
   "cell_type": "markdown",
   "id": "43e2f5f6",
   "metadata": {},
   "source": [
    "#step4\n",
    "pl.plot(ndf.Runs,ndf.fours)\n",
    "pl.xlabel(\"total run of a player\")\n",
    "pl.ylabel(\"number of 4s hit\")\n",
    "pl.show()"
   ]
  },
  {
   "cell_type": "markdown",
   "id": "a1577e13",
   "metadata": {},
   "source": [
    "#step4\n",
    "pl.plot(ndf.fours,ndf.SR)\n",
    "pl.ylabel(\"Strike rate\")\n",
    "pl.xlabel(\"number of 4s hit\")\n",
    "pl.show()"
   ]
  },
  {
   "cell_type": "markdown",
   "id": "ca0373b7",
   "metadata": {},
   "source": [
    "#step5\n",
    "from sklearn import linear_model\n"
   ]
  },
  {
   "cell_type": "markdown",
   "id": "c85dd99b",
   "metadata": {},
   "source": [
    "%matplotlib inline \n",
    "pl.scatter(ndf.Runs,ndf.fours,color=\"purple\",marker=\"*\")\n",
    "pl.xlabel(\"total run of a player\")\n",
    "pl.ylabel(\"number of 4s hit\")\n",
    "pl.show()"
   ]
  },
  {
   "cell_type": "markdown",
   "id": "9b4aae64",
   "metadata": {},
   "source": [
    "reg=linear_model.LinearRegression()\n",
    "reg.fit(ndf[['Runs']],ndf.fours)"
   ]
  },
  {
   "cell_type": "markdown",
   "id": "5a1adf27",
   "metadata": {},
   "source": [
    "pl.xlabel(\"total run of a player\",fontsize=10)\n",
    "pl.ylabel(\"number of 4s hit\",fontsize=10)\n",
    "pl.scatter(ndf.Runs,ndf.fours,marker='*',color='purple')\n",
    "pl.plot(ndf.Runs,reg.predict(ndf[['Runs']]),color='g')"
   ]
  },
  {
   "cell_type": "markdown",
   "id": "56f40fbc",
   "metadata": {},
   "source": [
    "#step6\n",
    "from sklearn.model_selection import train_test_split\n",
    "from sklearn.linear_model import LinearRegression\n",
    "from sklearn.metrics import mean_squared_error"
   ]
  },
  {
   "cell_type": "markdown",
   "id": "504d6e13",
   "metadata": {},
   "source": [
    "features_df=ndf[['Runs','Mat','Inns']]\n",
    "target_df=ndf[['fours']]"
   ]
  },
  {
   "cell_type": "markdown",
   "id": "f95ffd51",
   "metadata": {},
   "source": [
    "#step7\n",
    "X_train,X_test,Y_train,Y_test=train_test_split(features_df,target_df,test_size=0.2,random_state=10)\n",
    "clg=LinearRegression()\n",
    "clg.fit(X_train,Y_train)"
   ]
  },
  {
   "cell_type": "markdown",
   "id": "9b4777ec",
   "metadata": {},
   "source": [
    "#step8\n",
    "Y_train_pred=clg.predict(X_train)\n",
    "Y_test_pred=clg.predict(X_test)\n"
   ]
  },
  {
   "cell_type": "markdown",
   "id": "f22af366",
   "metadata": {},
   "source": [
    "#step9\n",
    "train_mse=mean_squared_error(Y_train,Y_train_pred)\n",
    "test_mse=mean_squared_error(Y_test,Y_test_pred)\n",
    "print(train_mse)\n",
    "print(test_mse)"
   ]
  },
  {
   "cell_type": "code",
   "execution_count": null,
   "id": "fec4aab8",
   "metadata": {},
   "outputs": [],
   "source": []
  }
 ],
 "metadata": {
  "kernelspec": {
   "display_name": "Python 3 (ipykernel)",
   "language": "python",
   "name": "python3"
  },
  "language_info": {
   "codemirror_mode": {
    "name": "ipython",
    "version": 3
   },
   "file_extension": ".py",
   "mimetype": "text/x-python",
   "name": "python",
   "nbconvert_exporter": "python",
   "pygments_lexer": "ipython3",
   "version": "3.11.5"
  }
 },
 "nbformat": 4,
 "nbformat_minor": 5
}
