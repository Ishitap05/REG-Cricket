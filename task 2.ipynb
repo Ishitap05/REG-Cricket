{
 "cells": [
  {
   "cell_type": "markdown",
   "id": "0b3970e8",
   "metadata": {},
   "source": [
    "!pip install opendatasets\n",
    "!pip install keras\n",
    "!pip install tensorflow\n",
    "!pip install rasa==1.1.4"
   ]
  },
  {
   "cell_type": "markdown",
   "id": "f957553b",
   "metadata": {},
   "source": [
    "import math\n",
    "import numpy as np\n",
    "import matplotlib.pyplot as plt\n",
    "from matplotlib.pyplot import imread\n",
    "import scipy\n",
    "from PIL import Image\n",
    "import pandas as pd\n",
    "import tensorflow as tf\n",
    "import tensorflow.keras.layers as tfl\n",
    "from tensorflow.python.framework import ops"
   ]
  },
  {
   "cell_type": "markdown",
   "id": "86879694",
   "metadata": {},
   "source": [
    "import opendatasets as od\n",
    "od.download(\"https://www.kaggle.com/datasets/koryakinp/fingers\")"
   ]
  },
  {
   "cell_type": "markdown",
   "id": "78069442",
   "metadata": {},
   "source": [
    "!pip install opencv-python\n",
    "import cv2\n",
    "import os\n",
    "\n"
   ]
  },
  {
   "cell_type": "markdown",
   "id": "747f9f12",
   "metadata": {},
   "source": [
    "images=[]\n",
    "labels=[]\n",
    "dataset_dir='./fingers/test'\n",
    "for filename in os.listdir(dataset_dir):\n",
    "        image=cv2.imread(os.path.join(dataset_dir,filename))\n",
    "        image=cv2.resize(image,(64,64))\n",
    "        images=np.append(images,image)\n",
    "        label=filename[-6]\n",
    "        labels=np.append(labels,label)\n",
    "        images=np.array(images)\n",
    "        labels=np.array(labels)\n",
    "        \n",
    "\n",
    "        \n",
    "        \n",
    "        "
   ]
  },
  {
   "cell_type": "markdown",
   "id": "fa15dd24",
   "metadata": {},
   "source": [
    "\n",
    "\n",
    "def convolutional_model(input_shape):\n",
    "    input_img=tf.keras.Input(shape=input_shape)\n",
    "    x=tf.keras.layers.Conv2D(8,(4,4),strides=(1,1),padding='SAME')(input_img)\n",
    "    x=tf.keras.layers.Activation('relu')(x)\n",
    "    x=tf.keras.layers.MaxPooling2D((8,8),strides=(8,8),padding='SAME')(x)\n",
    "    x=tf.keras.layers.Conv2D(16,(2,2),strides=(1,1),padding='SAME')(x)\n",
    "    x=tf.keras.layers.Activation('relu')(x)\n",
    "    x=tf.keras.layers.MaxPooling2D((4,4),strides=(4,4),padding='SAME')(x)\n",
    "    x=tf.keras.layers.Flatten()(x)\n",
    "    x=tf.keras.layers.Dense(6,activation='softmax')(x)\n",
    "    model=tf.keras.Model(input_img,x)\n",
    "    return model"
   ]
  },
  {
   "cell_type": "code",
   "execution_count": 11,
   "id": "9e146e95",
   "metadata": {},
   "outputs": [
    {
     "name": "stdout",
     "output_type": "stream",
     "text": [
      "WARNING:tensorflow:From C:\\Users\\Ishita Porwal\\anaconda3\\Lib\\site-packages\\keras\\src\\backend.py:1398: The name tf.executing_eagerly_outside_functions is deprecated. Please use tf.compat.v1.executing_eagerly_outside_functions instead.\n",
      "\n",
      "WARNING:tensorflow:From C:\\Users\\Ishita Porwal\\anaconda3\\Lib\\site-packages\\keras\\src\\layers\\pooling\\max_pooling2d.py:161: The name tf.nn.max_pool is deprecated. Please use tf.nn.max_pool2d instead.\n",
      "\n",
      "WARNING:tensorflow:From C:\\Users\\Ishita Porwal\\anaconda3\\Lib\\site-packages\\keras\\src\\optimizers\\__init__.py:309: The name tf.train.Optimizer is deprecated. Please use tf.compat.v1.train.Optimizer instead.\n",
      "\n",
      "Model: \"model\"\n",
      "_________________________________________________________________\n",
      " Layer (type)                Output Shape              Param #   \n",
      "=================================================================\n",
      " input_1 (InputLayer)        [(None, 64, 64, 1)]       0         \n",
      "                                                                 \n",
      " conv2d (Conv2D)             (None, 64, 64, 8)         136       \n",
      "                                                                 \n",
      " activation (Activation)     (None, 64, 64, 8)         0         \n",
      "                                                                 \n",
      " max_pooling2d (MaxPooling2  (None, 8, 8, 8)           0         \n",
      " D)                                                              \n",
      "                                                                 \n",
      " conv2d_1 (Conv2D)           (None, 8, 8, 16)          528       \n",
      "                                                                 \n",
      " activation_1 (Activation)   (None, 8, 8, 16)          0         \n",
      "                                                                 \n",
      " max_pooling2d_1 (MaxPoolin  (None, 2, 2, 16)          0         \n",
      " g2D)                                                            \n",
      "                                                                 \n",
      " flatten (Flatten)           (None, 64)                0         \n",
      "                                                                 \n",
      " dense (Dense)               (None, 6)                 390       \n",
      "                                                                 \n",
      "=================================================================\n",
      "Total params: 1054 (4.12 KB)\n",
      "Trainable params: 1054 (4.12 KB)\n",
      "Non-trainable params: 0 (0.00 Byte)\n",
      "_________________________________________________________________\n"
     ]
    }
   ],
   "source": [
    "model=convolutional_model((64,64,1))\n",
    "model.compile(optimizer='adam',loss='categorical_crossentropy',metrics=['accuracy'])\n",
    "model.summary()"
   ]
  },
  {
   "cell_type": "markdown",
   "id": "e51b46cb",
   "metadata": {
    "scrolled": true
   },
   "source": [
    "from sklearn.model_selection import train_test_split\n",
    "x_train,x_test,y_train,y_test=train_test_split(images[:int(len(labels))],labels[:int (len(labels))],test_size=1/9,random_state=12)"
   ]
  },
  {
   "cell_type": "markdown",
   "id": "5a9ee0a7",
   "metadata": {},
   "source": [
    "x_train = np.expand_dims(x_train, axis=-1)\n",
    "x_test = np.expand_dims(x_test, axis=-1)\n",
    "x_train = x_train[:, 0,]\n",
    "x_test=x_test[:,0,]\n",
    "print(x_train.shape)\n",
    "print(x_test.shape)"
   ]
  },
  {
   "cell_type": "markdown",
   "id": "20cedadd",
   "metadata": {},
   "source": [
    "x_train = np.expand_dims(x_train, axis=-1)\n",
    "x_test = np.expand_dims(x_test, axis=-1)\n",
    "y_train = np.expand_dims(y_train, axis=-1)\n",
    "y_test = np.expand_dims(y_test, axis=-1)\n",
    "x_train = x_train[:, :,:,:,0,]\n",
    "x_test=x_test[:,:,:,0]\n",
    "y_train = y_train[:, :,:,:,0,]\n",
    "y_test=y_test[:,:,:,0]\n",
    "print(x_train.shape)\n",
    "print(x_test.shape)\n",
    "print (\"y_train shape: \" + str(y_train.shape))\n",
    "print (\"y_test shape: \" + str(y_test.shape))"
   ]
  },
  {
   "cell_type": "markdown",
   "id": "fb5cbef3",
   "metadata": {},
   "source": [
    "train_dataset = tf.data.Dataset.from_tensor_slices((x_train[1800], y_train[1800]))\n",
    "train_dataset = train_dataset.batch(32)\n",
    "test_dataset = tf.data.Dataset.from_tensor_slices((x_test[300], y_test[300]))\n",
    "test_dataset = test_dataset.batch(32)"
   ]
  },
  {
   "cell_type": "markdown",
   "id": "81911b19",
   "metadata": {},
   "source": [
    "history = model.fit(train_dataset,epochs=10, validation_data=test_dataset)"
   ]
  },
  {
   "cell_type": "markdown",
   "id": "2c55bf36",
   "metadata": {},
   "source": [
    "import random\n",
    "import cv2\n",
    "from matplotlib import pyplot as plt\n",
    "\n",
    "numbers = list(range(1, 400))\n",
    "random_array = random.sample(numbers, 10)\n",
    "\n",
    "fig = plt.figure(figsize=(10, 7))\n",
    "\n",
    "for i, idx in enumerate(random_array):\n",
    "    img_resized = cv2.resize(x_test[idx], (64, 64))\n",
    "    y_pred = np.argmax(model.predict(np.expand_dims(x_test[idx], axis=0),verbose=0))\n",
    "    ax = fig.add_subplot(1, 10, i+1)\n",
    "    ax.imshow(img_resized, cmap='gray')\n",
    "    ax.axis('off')\n",
    "    ax.set_title(\"pred = \" + str(y_pred))\n",
    "\n",
    "plt.tight_layout()\n",
    "plt.show()"
   ]
  }
 ],
 "metadata": {
  "kernelspec": {
   "display_name": "Python 3 (ipykernel)",
   "language": "python",
   "name": "python3"
  },
  "language_info": {
   "codemirror_mode": {
    "name": "ipython",
    "version": 3
   },
   "file_extension": ".py",
   "mimetype": "text/x-python",
   "name": "python",
   "nbconvert_exporter": "python",
   "pygments_lexer": "ipython3",
   "version": "3.11.5"
  }
 },
 "nbformat": 4,
 "nbformat_minor": 5
}
